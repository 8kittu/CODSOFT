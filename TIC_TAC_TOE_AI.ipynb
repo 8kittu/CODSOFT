{
  "nbformat": 4,
  "nbformat_minor": 0,
  "metadata": {
    "colab": {
      "provenance": []
    },
    "kernelspec": {
      "name": "python3",
      "display_name": "Python 3"
    },
    "language_info": {
      "name": "python"
    }
  },
  "cells": [
    {
      "cell_type": "code",
      "execution_count": 13,
      "metadata": {
        "id": "Iey2MN9kaJyB"
      },
      "outputs": [],
      "source": [
        "# Initialize the game board\n",
        "def initialize_board():\n",
        "    return [[' ' for _ in range(3)] for _ in range(3)]\n",
        "\n",
        "# Print the game board\n",
        "def print_board(board):\n",
        "    for row in board:\n",
        "        print(\"|\".join(row))\n",
        "        print(\"-\" * 5)\n"
      ]
    },
    {
      "cell_type": "code",
      "source": [
        "# Check if a player has won\n",
        "def is_winner(board, player):\n",
        "    for i in range(3):\n",
        "        if all([board[i][j] == player for j in range(3)]) or \\\n",
        "           all([board[j][i] == player for j in range(3)]):\n",
        "            return True\n",
        "    if board[0][0] == board[1][1] == board[2][2] == player or \\\n",
        "       board[0][2] == board[1][1] == board[2][0] == player:\n",
        "        return True\n",
        "    return False\n",
        "\n",
        "# Check if the game is a draw\n",
        "def is_draw(board):\n",
        "    return all([cell != ' ' for row in board for cell in row])\n"
      ],
      "metadata": {
        "id": "VYsRDI0XaUqO"
      },
      "execution_count": 12,
      "outputs": []
    },
    {
      "cell_type": "code",
      "source": [
        "# Minimax Algorithm with Alpha-Beta Pruning\n",
        "def minimax(board, is_maximizing, alpha=float('-inf'), beta=float('inf')):\n",
        "    if is_winner(board, 'O'): return 1\n",
        "    if is_winner(board, 'X'): return -1\n",
        "    if is_draw(board): return 0\n",
        "\n",
        "    if is_maximizing:\n",
        "        max_eval = float('-inf')\n",
        "        for i in range(3):\n",
        "            for j in range(3):\n",
        "                if board[i][j] == ' ':\n",
        "                    board[i][j] = 'O'\n",
        "                    eval = minimax(board, False, alpha, beta)\n",
        "                    board[i][j] = ' '\n",
        "                    max_eval = max(max_eval, eval)\n",
        "                    alpha = max(alpha, eval)\n",
        "                    if beta <= alpha: break\n",
        "        return max_eval\n",
        "    else:\n",
        "        min_eval = float('inf')\n",
        "        for i in range(3):\n",
        "            for j in range(3):\n",
        "                if board[i][j] == ' ':\n",
        "                    board[i][j] = 'X'\n",
        "                    eval = minimax(board, True, alpha, beta)\n",
        "                    board[i][j] = ' '\n",
        "                    min_eval = min(min_eval, eval)\n",
        "                    beta = min(beta, eval)\n",
        "                    if beta <= alpha: break\n",
        "        return min_eval\n"
      ],
      "metadata": {
        "id": "B59uOpokabfo"
      },
      "execution_count": 14,
      "outputs": []
    },
    {
      "cell_type": "code",
      "source": [
        "# Find the best move for AI\n",
        "def find_best_move(board):\n",
        "    best_move = None\n",
        "    best_value = float('-inf')\n",
        "    for i in range(3):\n",
        "        for j in range(3):\n",
        "            if board[i][j] == ' ':\n",
        "                board[i][j] = 'O'\n",
        "                move_value = minimax(board, False)\n",
        "                board[i][j] = ' '\n",
        "                if move_value > best_value:\n",
        "                    best_value = move_value\n",
        "                    best_move = (i, j)\n",
        "    return best_move\n"
      ],
      "metadata": {
        "id": "-vyv6N5-afoL"
      },
      "execution_count": 15,
      "outputs": []
    },
    {
      "cell_type": "code",
      "source": [
        "# Play the game\n",
        "def play_game():\n",
        "    board = initialize_board()\n",
        "    while True:\n",
        "        print_board(board)\n",
        "        if is_winner(board, 'O'):\n",
        "            print(\"AI wins!\")\n",
        "            break\n",
        "        if is_winner(board, 'X'):\n",
        "            print(\"You win!\")\n",
        "            break\n",
        "        if is_draw(board):\n",
        "            print(\"It's a draw!\")\n",
        "            break\n",
        "\n",
        "        # Human move\n",
        "        try:\n",
        "            move = input(\"Enter your move (row col): \").strip()\n",
        "            row, col = map(int, move.split())\n",
        "            if board[row][col] == ' ':\n",
        "                board[row][col] = 'X'\n",
        "            else:\n",
        "                print(\"Invalid move. Try again.\")\n",
        "                continue\n",
        "        except (ValueError, IndexError):\n",
        "            print(\"Invalid input. Please enter row and column numbers between 0 and 2.\")\n",
        "            continue\n",
        "\n",
        "        # AI move\n",
        "        ai_move = find_best_move(board)\n",
        "        if ai_move:\n",
        "            board[ai_move[0]][ai_move[1]] = 'O'\n",
        "\n",
        "play_game()\n"
      ],
      "metadata": {
        "colab": {
          "base_uri": "https://localhost:8080/"
        },
        "id": "r1BGGmG_anC2",
        "outputId": "cc6cbff2-ce41-47b0-c3ba-1563a254e335"
      },
      "execution_count": 16,
      "outputs": [
        {
          "output_type": "stream",
          "name": "stdout",
          "text": [
            " | | \n",
            "-----\n",
            " | | \n",
            "-----\n",
            " | | \n",
            "-----\n",
            "Enter your move (row col): 1\n",
            "Invalid input. Please enter row and column numbers between 0 and 2.\n",
            " | | \n",
            "-----\n",
            " | | \n",
            "-----\n",
            " | | \n",
            "-----\n",
            "Enter your move (row col): 1 1\n",
            "O| | \n",
            "-----\n",
            " |X| \n",
            "-----\n",
            " | | \n",
            "-----\n",
            "Enter your move (row col): 0 0\n",
            "Invalid move. Try again.\n",
            "O| | \n",
            "-----\n",
            " |X| \n",
            "-----\n",
            " | | \n",
            "-----\n",
            "Enter your move (row col): 2 2\n",
            "O| |O\n",
            "-----\n",
            " |X| \n",
            "-----\n",
            " | |X\n",
            "-----\n",
            "Enter your move (row col): 2 2\n",
            "Invalid move. Try again.\n",
            "O| |O\n",
            "-----\n",
            " |X| \n",
            "-----\n",
            " | |X\n",
            "-----\n",
            "Enter your move (row col): 0 0\n",
            "Invalid move. Try again.\n",
            "O| |O\n",
            "-----\n",
            " |X| \n",
            "-----\n",
            " | |X\n",
            "-----\n",
            "Enter your move (row col): 1 1\n",
            "Invalid move. Try again.\n",
            "O| |O\n",
            "-----\n",
            " |X| \n",
            "-----\n",
            " | |X\n",
            "-----\n",
            "Enter your move (row col): 2 3\n",
            "Invalid input. Please enter row and column numbers between 0 and 2.\n",
            "O| |O\n",
            "-----\n",
            " |X| \n",
            "-----\n",
            " | |X\n",
            "-----\n",
            "Enter your move (row col): 2 1\n",
            "O|O|O\n",
            "-----\n",
            " |X| \n",
            "-----\n",
            " |X|X\n",
            "-----\n",
            "AI wins!\n"
          ]
        }
      ]
    }
  ]
}